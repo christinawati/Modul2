{
 "cells": [
  {
   "cell_type": "code",
   "execution_count": 12,
   "id": "bigger-stephen",
   "metadata": {},
   "outputs": [
    {
     "name": "stdout",
     "output_type": "stream",
     "text": [
      "Requirement already satisfied: mysql.connector in /srv/conda/envs/notebook/lib/python3.7/site-packages (2.2.9)\n"
     ]
    }
   ],
   "source": [
    "!pip install mysql.connector"
   ]
  },
  {
   "cell_type": "code",
   "execution_count": 13,
   "id": "optional-custody",
   "metadata": {},
   "outputs": [],
   "source": [
    "import mysql.connector\n",
    "import pandas as pd"
   ]
  },
  {
   "cell_type": "code",
   "execution_count": null,
   "id": "suitable-treatment",
   "metadata": {},
   "outputs": [],
   "source": [
    "mydb = mysql.connector.connect(\n",
    "    host = 'localhost',\n",
    "    user = 'root',\n",
    "    passwd = '123456Ch',\n",
    "    database = 'sakila'\n",
    ")"
   ]
  },
  {
   "cell_type": "code",
   "execution_count": null,
   "id": "conventional-spell",
   "metadata": {},
   "outputs": [],
   "source": [
    "myCursor = mydb.cursor()\n",
    "def sql(syntax):\n",
    "    myCursor.execute(syntax)\n",
    "    myResult = myCursor.fetchall()\n",
    "    df = pd.DataFrame(myResult, columns = myCursor.column_names)\n",
    "    return df"
   ]
  },
  {
   "cell_type": "code",
   "execution_count": null,
   "id": "civilian-minnesota",
   "metadata": {},
   "outputs": [],
   "source": [
    "sql('show tables;')"
   ]
  },
  {
   "cell_type": "markdown",
   "id": "binding-concentration",
   "metadata": {},
   "source": [
    "1. Tampilkan daftar 10 film komedi dengan durasi tersingkat. Urutkan data berdasarkan film dengan urasi terpendek. Kolom yang diwajibkan tampil adalah title, category dan length. Output yang diharapkan:"
   ]
  },
  {
   "cell_type": "code",
   "execution_count": null,
   "id": "expected-handling",
   "metadata": {},
   "outputs": [],
   "source": [
    "SELECT film_list.title, film_list.category, film_list.length\n",
    "FROM film_list\n",
    "WHERE category = 'comedy'\n",
    "ORDER BY length asc limit 10;"
   ]
  },
  {
   "cell_type": "markdown",
   "id": "smooth-particular",
   "metadata": {},
   "source": [
    "2. Tampilkan daftar lengkap kategori film beserta jumlah film tiap kategori & rata-rata harga sewa DVD film tiap kategori. Urutkan data dari kategori dengan jumlah film terbanyak. Kolom yang diwajibkan ada minimal adalah kategori, jumlah film dan rata-rata harga sewa. Output yang diharapkan:"
   ]
  },
  {
   "cell_type": "code",
   "execution_count": null,
   "id": "renewable-flooring",
   "metadata": {},
   "outputs": [],
   "source": [
    "SELECT film_list.category, COUNT(*) as jumlahMovie, AVG(price) as rataHargaSewa\n",
    "FROM film_list\n",
    "GROUP BY category\n",
    "ORDER BY COUNT(*) desc;"
   ]
  },
  {
   "cell_type": "markdown",
   "id": "center-curve",
   "metadata": {},
   "source": [
    "3. Tampilkan daftar 10 aktor/aktris yang paling banyak membintangi film. Kolom yang ditampilkan minimal: id aktor, nama depan, nama belakang dan jumlah film yang dibintangi. Kemudian urutkan dari aktor/aktris yang membintangi film terbanyak. Output yang diharapkan:"
   ]
  },
  {
   "cell_type": "code",
   "execution_count": null,
   "id": "fleet-greene",
   "metadata": {},
   "outputs": [],
   "source": [
    "SELECT actor.actor_id, actor.first_name, actor.last_name,\n",
    "COUNT(*) as jumlah_Movie\n",
    "FROM actor\n",
    "JOIN film_actor on film_actor.actor_id = actor.actor_id\n",
    "GROUP BY actor.actor_id\n",
    "ORDER BY COUNT(*) desc limit 10;"
   ]
  },
  {
   "cell_type": "markdown",
   "id": "pharmaceutical-beginning",
   "metadata": {},
   "source": [
    "4. Dari soal sebelumnya diketahui Gina Degeneres merupakan aktris yang paling banyak membintangi film, dengan total 42 judul film. Kategori film apakah yang paling banyak dibintanginya? Untuk mengetahuinya, tampilkan daftar kategori film beserta jumlah film yang pernah dibintangi oleh Gina Degeneres. Kolom yang diwajibkan ada yaitu kategori film dan jumlah film yang dibintangi. Output yang diharapkan:"
   ]
  },
  {
   "cell_type": "code",
   "execution_count": null,
   "id": "ordered-addition",
   "metadata": {},
   "outputs": [],
   "source": [
    "SELECT category.name as category,\n",
    "COUNT(*) as jumlah_Movie\n",
    "FROM actor\n",
    "JOIN film_actor on film_actor.actor_id = actor.actor_id\n",
    "JOIN film on film.film_id = film_actor.film_id\n",
    "JOIN film_category on film_category.film_id = film.film_id\n",
    "JOIN category on category.category_id = film_category.category_id\n",
    "WHERE actor.first_name = 'Gina' and actor.last_name = 'Degeneres'\n",
    "GROUP BY category.name;"
   ]
  },
  {
   "cell_type": "markdown",
   "id": "graphic-oliver",
   "metadata": {},
   "source": [
    "5. Dari soal sebelumnya diketahui Gina Degeneres paling banyak membintangi film bergenre sciencefiction, dengan total 7 judul film. Tampilkan daftar judul film sci-fi yang pernah dibintangi oleh Gina Degeneres. Kolom yang diwajibkan ada yaitu judul film dan kategorinya. Output yang diharapkan:"
   ]
  },
  {
   "cell_type": "code",
   "execution_count": null,
   "id": "asian-nitrogen",
   "metadata": {},
   "outputs": [],
   "source": [
    "SELECT film.title as title, category.name as category\n",
    "FROM actor\n",
    "JOIN film_actor on film_actor.actor_id = actor.actor_id\n",
    "JOIN film on film.film_id = film_actor.film_id\n",
    "JOIN film_category on film_category.film_id = film.film_id\n",
    "JOIN category on category.category_id = film_category.category_id\n",
    "WHERE actor.first_name = 'Gina' and actor.last_name = 'Degeneres' and category.name = 'Sci-Fi';"
   ]
  }
 ],
 "metadata": {
  "kernelspec": {
   "display_name": "Python 3",
   "language": "python",
   "name": "python3"
  },
  "language_info": {
   "codemirror_mode": {
    "name": "ipython",
    "version": 3
   },
   "file_extension": ".py",
   "mimetype": "text/x-python",
   "name": "python",
   "nbconvert_exporter": "python",
   "pygments_lexer": "ipython3",
   "version": "3.7.8"
  }
 },
 "nbformat": 4,
 "nbformat_minor": 5
}
